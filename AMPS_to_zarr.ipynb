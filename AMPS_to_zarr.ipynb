{
 "cells": [
  {
   "cell_type": "markdown",
   "metadata": {},
   "source": [
    "# Loading and combining AMPS Netcdfs \n",
    "### Notebook for testing out methods of getting AMPS data into zarr format in our google bucket: gs://ldeo-glaciology \n",
    "We already have many AMPS netcdfs in the googlebucket https://storage.googleapis.com/ldeo-glaciology/AMPS/. \n",
    "Our aim to to combine them into an analysis-ready format.\n",
    "The best option will be going from the NCAR HPC access server (?) directly to boogle bucket (GB). But in the meantime we can try going from local netcdfs to GB. This script does this. "
   ]
  },
  {
   "cell_type": "code",
   "execution_count": 1,
   "metadata": {},
   "outputs": [],
   "source": [
    "import xarray as xr\n",
    "import fsspec\n",
    "import zarr\n",
    "import gcsfs\n",
    "xr.set_options(display_style=\"html\");\n"
   ]
  },
  {
   "cell_type": "code",
   "execution_count": 7,
   "metadata": {},
   "outputs": [
    {
     "name": "stderr",
     "output_type": "stream",
     "text": [
      "/Users/jkingslake/opt/anaconda3/envs/geo_scipy_3/lib/python3.7/site-packages/ipykernel_launcher.py:1: FutureWarning: In xarray version 0.15 the default behaviour of `open_mfdataset`\n",
      "will change. To retain the existing behavior, pass\n",
      "combine='nested'. To use future default behavior, pass\n",
      "combine='by_coords'. See\n",
      "http://xarray.pydata.org/en/stable/combining.html#combining-multi\n",
      "\n",
      "  \"\"\"Entry point for launching an IPython kernel.\n",
      "/Users/jkingslake/opt/anaconda3/envs/geo_scipy_3/lib/python3.7/site-packages/xarray/backends/api.py:941: FutureWarning: Also `open_mfdataset` will no longer accept a `concat_dim` argument.\n",
      "To get equivalent behaviour from now on please use the new\n",
      "`combine_nested` function instead (or the `combine='nested'` option to\n",
      "`open_mfdataset`).The datasets supplied do not have global dimension coordinates. In\n",
      "future, to continue concatenating without supplying dimension\n",
      "coordinates, please use the new `combine_nested` function (or the\n",
      "`combine='nested'` option to open_mfdataset.\n",
      "  from_openmfds=True,\n"
     ]
    }
   ],
   "source": [
    "AMPS = xr.open_mfdataset('wrfout_d03_2016122200_f*.nc',concat_dim= 'Time')\n",
    "AMPS"
   ]
  },
  {
   "cell_type": "code",
   "execution_count": 66,
   "metadata": {},
   "outputs": [],
   "source": [
    "fs = gcsfs.GCSFileSystem('rosy-hope-23661', token='/Users/jkingslake/.config/gcloud/legacy_credentials/jk3930@columbia.edu/adc.json')"
   ]
  },
  {
   "cell_type": "code",
   "execution_count": 73,
   "metadata": {},
   "outputs": [],
   "source": [
    "#fs = gcsfs.GCSFileSystem(project='rosy-hope-23661', token=None)\n",
    "gcsmap = gcsfs.mapping.GCSMap('gs://ldeo-glaciology/AMPS_zarr', gcs=fs, check=True, create=False)\n",
    "# write to the bucket\n",
    "#ds.to_zarr(store=gcsmap)\n",
    "# read it back\n",
    "#ds_gcs = xr.open_zarr(gcsmap)"
   ]
  },
  {
   "cell_type": "markdown",
   "metadata": {},
   "source": [
    "Look at what's in the google bucket."
   ]
  },
  {
   "cell_type": "code",
   "execution_count": 68,
   "metadata": {},
   "outputs": [
    {
     "data": {
      "text/plain": [
       "['ldeo-glaciology/.zattrs',\n",
       " 'ldeo-glaciology/.zgroup',\n",
       " 'ldeo-glaciology/8m',\n",
       " 'ldeo-glaciology/AMPS',\n",
       " 'ldeo-glaciology/snowmelt.KNMI-1981.ANT27.ERAINx_RACMO2.4.1.DD.nc',\n",
       " 'ldeo-glaciology/test.nc',\n",
       " 'ldeo-glaciology/tskin_snowmelt_precip6']"
      ]
     },
     "execution_count": 68,
     "metadata": {},
     "output_type": "execute_result"
    }
   ],
   "source": [
    "fs.ls('gs://ldeo-glaciology')"
   ]
  },
  {
   "cell_type": "markdown",
   "metadata": {},
   "source": [
    "Write a zarr file to a local directory"
   ]
  },
  {
   "cell_type": "code",
   "execution_count": 63,
   "metadata": {},
   "outputs": [
    {
     "data": {
      "text/plain": [
       "<xarray.backends.zarr.ZarrStore at 0x12d1b0e30>"
      ]
     },
     "execution_count": 63,
     "metadata": {},
     "output_type": "execute_result"
    }
   ],
   "source": [
    "AMPS.to_zarr('AMPStest.zarr')"
   ]
  },
  {
   "cell_type": "raw",
   "metadata": {},
   "source": [
    "Write the zarr file directly to the google bucket"
   ]
  },
  {
   "cell_type": "code",
   "execution_count": null,
   "metadata": {},
   "outputs": [],
   "source": [
    "AMPS.to_zarr(store=gcsmap)"
   ]
  },
  {
   "cell_type": "code",
   "execution_count": null,
   "metadata": {},
   "outputs": [],
   "source": []
  },
  {
   "cell_type": "code",
   "execution_count": null,
   "metadata": {},
   "outputs": [],
   "source": []
  },
  {
   "cell_type": "code",
   "execution_count": null,
   "metadata": {},
   "outputs": [],
   "source": []
  }
 ],
 "metadata": {
  "kernelspec": {
   "display_name": "Python 3",
   "language": "python",
   "name": "python3"
  },
  "language_info": {
   "codemirror_mode": {
    "name": "ipython",
    "version": 3
   },
   "file_extension": ".py",
   "mimetype": "text/x-python",
   "name": "python",
   "nbconvert_exporter": "python",
   "pygments_lexer": "ipython3",
   "version": "3.7.7"
  }
 },
 "nbformat": 4,
 "nbformat_minor": 4
}
