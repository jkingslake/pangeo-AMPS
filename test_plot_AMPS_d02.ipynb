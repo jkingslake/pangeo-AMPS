{
 "cells": [
  {
   "cell_type": "markdown",
   "metadata": {},
   "source": [
    "# Notebook testing plots AMPS plots"
   ]
  },
  {
   "cell_type": "code",
   "execution_count": 1,
   "metadata": {},
   "outputs": [],
   "source": [
    "import xarray as xr\n",
    "import numpy as np\n",
    "import matplotlib.pyplot as plt\n",
    "from glob import glob\n",
    "\n",
    "import gcsfs\n",
    "from tqdm import tqdm\n",
    "import fsspec\n",
    "xr.set_options(display_style=\"html\");"
   ]
  },
  {
   "cell_type": "code",
   "execution_count": null,
   "metadata": {},
   "outputs": [],
   "source": []
  },
  {
   "cell_type": "code",
   "execution_count": null,
   "metadata": {},
   "outputs": [],
   "source": []
  },
  {
   "cell_type": "code",
   "execution_count": null,
   "metadata": {},
   "outputs": [],
   "source": []
  },
  {
   "cell_type": "markdown",
   "metadata": {},
   "source": [
    "### setup runtime parameters"
   ]
  },
  {
   "cell_type": "code",
   "execution_count": 2,
   "metadata": {},
   "outputs": [],
   "source": [
    "pattern = 'gs://ldeo-glaciology/AMPS/WRF_24/domain_02/wrfout_d02_20191231**'"
   ]
  },
  {
   "cell_type": "markdown",
   "metadata": {},
   "source": [
    "### list the netcdf files"
   ]
  },
  {
   "cell_type": "code",
   "execution_count": 3,
   "metadata": {},
   "outputs": [
    {
     "name": "stdout",
     "output_type": "stream",
     "text": [
      "Total of 8 wrf files.\n",
      "ldeo-glaciology/AMPS/WRF_24/domain_02/wrfout_d02_2019123100_f003.nc\n"
     ]
    }
   ],
   "source": [
    "fs = gcsfs.GCSFileSystem(project='ldeo-glaciology', mode='ab', cache_timeout = 0)\n",
    "NCs = fs.glob(pattern)\n",
    "print(f\"Total of {len(NCs)} wrf files.\")\n",
    "print(NCs[0])"
   ]
  },
  {
   "cell_type": "code",
   "execution_count": null,
   "metadata": {},
   "outputs": [],
   "source": []
  },
  {
   "cell_type": "code",
   "execution_count": 4,
   "metadata": {},
   "outputs": [
    {
     "name": "stdout",
     "output_type": "stream",
     "text": [
      "['https://storage.googleapis.com/ldeo-glaciology/AMPS/WRF_24/domain_02/wrfout_d02_2019123100_f003.nc#mode=bytes', 'https://storage.googleapis.com/ldeo-glaciology/AMPS/WRF_24/domain_02/wrfout_d02_2019123100_f006.nc#mode=bytes', 'https://storage.googleapis.com/ldeo-glaciology/AMPS/WRF_24/domain_02/wrfout_d02_2019123100_f009.nc#mode=bytes', 'https://storage.googleapis.com/ldeo-glaciology/AMPS/WRF_24/domain_02/wrfout_d02_2019123100_f012.nc#mode=bytes', 'https://storage.googleapis.com/ldeo-glaciology/AMPS/WRF_24/domain_02/wrfout_d02_2019123112_f003.nc#mode=bytes', 'https://storage.googleapis.com/ldeo-glaciology/AMPS/WRF_24/domain_02/wrfout_d02_2019123112_f006.nc#mode=bytes', 'https://storage.googleapis.com/ldeo-glaciology/AMPS/WRF_24/domain_02/wrfout_d02_2019123112_f009.nc#mode=bytes', 'https://storage.googleapis.com/ldeo-glaciology/AMPS/WRF_24/domain_02/wrfout_d02_2019123112_f012.nc#mode=bytes']\n"
     ]
    }
   ],
   "source": [
    "NCs_urls = ['https://storage.googleapis.com/' + x + '#mode=bytes' for x in NCs]\n",
    "print(NCs_urls)"
   ]
  },
  {
   "cell_type": "code",
   "execution_count": 9,
   "metadata": {},
   "outputs": [
    {
     "ename": "ValueError",
     "evalue": "Could not find any dimension coordinates to use to order the datasets for concatenation",
     "output_type": "error",
     "traceback": [
      "\u001b[0;31m---------------------------------------------------------------------------\u001b[0m",
      "\u001b[0;31mValueError\u001b[0m                                Traceback (most recent call last)",
      "\u001b[0;32m<ipython-input-9-e96e88adb401>\u001b[0m in \u001b[0;36m<module>\u001b[0;34m\u001b[0m\n\u001b[0;32m----> 1\u001b[0;31m \u001b[0mds\u001b[0m \u001b[0;34m=\u001b[0m \u001b[0mxr\u001b[0m\u001b[0;34m.\u001b[0m\u001b[0mopen_mfdataset\u001b[0m\u001b[0;34m(\u001b[0m\u001b[0mNCs_urls\u001b[0m\u001b[0;34m,\u001b[0m \u001b[0mengine\u001b[0m\u001b[0;34m=\u001b[0m\u001b[0;34m'netcdf4'\u001b[0m\u001b[0;34m,\u001b[0m \u001b[0mconcat_dim\u001b[0m\u001b[0;34m=\u001b[0m\u001b[0;34m'Time'\u001b[0m\u001b[0;34m,\u001b[0m\u001b[0mcombine\u001b[0m\u001b[0;34m=\u001b[0m\u001b[0;34m'by_coords'\u001b[0m\u001b[0;34m)\u001b[0m\u001b[0;34m\u001b[0m\u001b[0;34m\u001b[0m\u001b[0m\n\u001b[0m",
      "\u001b[0;32m/srv/conda/envs/notebook/lib/python3.8/site-packages/xarray/backends/api.py\u001b[0m in \u001b[0;36mopen_mfdataset\u001b[0;34m(paths, chunks, concat_dim, compat, preprocess, engine, lock, data_vars, coords, combine, autoclose, parallel, join, attrs_file, **kwargs)\u001b[0m\n\u001b[1;32m    944\u001b[0m             \u001b[0;31m# Redo ordering from coordinates, ignoring how they were ordered\u001b[0m\u001b[0;34m\u001b[0m\u001b[0;34m\u001b[0m\u001b[0;34m\u001b[0m\u001b[0m\n\u001b[1;32m    945\u001b[0m             \u001b[0;31m# previously\u001b[0m\u001b[0;34m\u001b[0m\u001b[0;34m\u001b[0m\u001b[0;34m\u001b[0m\u001b[0m\n\u001b[0;32m--> 946\u001b[0;31m             combined = combine_by_coords(\n\u001b[0m\u001b[1;32m    947\u001b[0m                 \u001b[0mdatasets\u001b[0m\u001b[0;34m,\u001b[0m\u001b[0;34m\u001b[0m\u001b[0;34m\u001b[0m\u001b[0m\n\u001b[1;32m    948\u001b[0m                 \u001b[0mcompat\u001b[0m\u001b[0;34m=\u001b[0m\u001b[0mcompat\u001b[0m\u001b[0;34m,\u001b[0m\u001b[0;34m\u001b[0m\u001b[0;34m\u001b[0m\u001b[0m\n",
      "\u001b[0;32m/srv/conda/envs/notebook/lib/python3.8/site-packages/xarray/core/combine.py\u001b[0m in \u001b[0;36mcombine_by_coords\u001b[0;34m(datasets, compat, data_vars, coords, fill_value, join, combine_attrs)\u001b[0m\n\u001b[1;32m    757\u001b[0m     \u001b[0mconcatenated_grouped_by_data_vars\u001b[0m \u001b[0;34m=\u001b[0m \u001b[0;34m[\u001b[0m\u001b[0;34m]\u001b[0m\u001b[0;34m\u001b[0m\u001b[0;34m\u001b[0m\u001b[0m\n\u001b[1;32m    758\u001b[0m     \u001b[0;32mfor\u001b[0m \u001b[0mvars\u001b[0m\u001b[0;34m,\u001b[0m \u001b[0mdatasets_with_same_vars\u001b[0m \u001b[0;32min\u001b[0m \u001b[0mgrouped_by_vars\u001b[0m\u001b[0;34m:\u001b[0m\u001b[0;34m\u001b[0m\u001b[0;34m\u001b[0m\u001b[0m\n\u001b[0;32m--> 759\u001b[0;31m         combined_ids, concat_dims = _infer_concat_order_from_coords(\n\u001b[0m\u001b[1;32m    760\u001b[0m             \u001b[0mlist\u001b[0m\u001b[0;34m(\u001b[0m\u001b[0mdatasets_with_same_vars\u001b[0m\u001b[0;34m)\u001b[0m\u001b[0;34m\u001b[0m\u001b[0;34m\u001b[0m\u001b[0m\n\u001b[1;32m    761\u001b[0m         )\n",
      "\u001b[0;32m/srv/conda/envs/notebook/lib/python3.8/site-packages/xarray/core/combine.py\u001b[0m in \u001b[0;36m_infer_concat_order_from_coords\u001b[0;34m(datasets)\u001b[0m\n\u001b[1;32m    104\u001b[0m \u001b[0;34m\u001b[0m\u001b[0m\n\u001b[1;32m    105\u001b[0m     \u001b[0;32mif\u001b[0m \u001b[0mlen\u001b[0m\u001b[0;34m(\u001b[0m\u001b[0mdatasets\u001b[0m\u001b[0;34m)\u001b[0m \u001b[0;34m>\u001b[0m \u001b[0;36m1\u001b[0m \u001b[0;32mand\u001b[0m \u001b[0;32mnot\u001b[0m \u001b[0mconcat_dims\u001b[0m\u001b[0;34m:\u001b[0m\u001b[0;34m\u001b[0m\u001b[0;34m\u001b[0m\u001b[0m\n\u001b[0;32m--> 106\u001b[0;31m         raise ValueError(\n\u001b[0m\u001b[1;32m    107\u001b[0m             \u001b[0;34m\"Could not find any dimension coordinates to use to \"\u001b[0m\u001b[0;34m\u001b[0m\u001b[0;34m\u001b[0m\u001b[0m\n\u001b[1;32m    108\u001b[0m             \u001b[0;34m\"order the datasets for concatenation\"\u001b[0m\u001b[0;34m\u001b[0m\u001b[0;34m\u001b[0m\u001b[0m\n",
      "\u001b[0;31mValueError\u001b[0m: Could not find any dimension coordinates to use to order the datasets for concatenation"
     ]
    }
   ],
   "source": [
    "ds = xr.open_mfdataset(NCs_urls, engine='netcdf4', concat_dim='Time',combine='by_coords')"
   ]
  },
  {
   "cell_type": "code",
   "execution_count": 4,
   "metadata": {},
   "outputs": [],
   "source": [
    "## load the first file to inialize the xarray\n",
    "\n",
    "url = 'gs://' + NCs[0]\n",
    "with  fsspec.open(url, mode='rb')  as openfile:  \n",
    "    ds = xr.open_dataset(openfile)#, chunks={'Time': 1})  # these chunk sizes produce chunks of reasonable data volumes and which stretch through all time\n",
    "\n",
    "# ## load the other files, each time concaternating them onto an xarray (AMPS) that grows in the time dimension each iteration. \n",
    "# for i in tqdm(range(1, len(NCs)-1)):  \n",
    "#     url = 'gs://' + NCs[i]\n",
    "#     with  fsspec.open(url, mode='rb')  as openfile:  \n",
    "#         temp = xr.open_dataset(openfile, chunks={'time': 1})  # these chunk sizes produce chunks of reasonable data volumes and which stretch through all time\n",
    "#     ds = xr.concat([ds,temp],'time')"
   ]
  },
  {
   "cell_type": "code",
   "execution_count": null,
   "metadata": {},
   "outputs": [],
   "source": [
    "ds"
   ]
  },
  {
   "cell_type": "code",
   "execution_count": null,
   "metadata": {},
   "outputs": [],
   "source": [
    "print(ds.HFX.chunks)"
   ]
  },
  {
   "cell_type": "markdown",
   "metadata": {},
   "source": [
    "## Quick overview plot"
   ]
  },
  {
   "cell_type": "code",
   "execution_count": null,
   "metadata": {},
   "outputs": [],
   "source": [
    "# plottime = 0\n",
    "\n",
    "# if plottime == 0:\n",
    "#     plottitle = 'hi'\n",
    "#     plotdate = '23-Dec-2016 1800z'\n",
    "# else:\n",
    "#     plottitle = 'lo'\n",
    "#     plotdate = '27-Dec-2016 1500z'\n",
    "    "
   ]
  },
  {
   "cell_type": "code",
   "execution_count": null,
   "metadata": {},
   "outputs": [],
   "source": [
    "ds['HFX'].mean(dim='Time').mean()"
   ]
  },
  {
   "cell_type": "code",
   "execution_count": null,
   "metadata": {},
   "outputs": [],
   "source": []
  },
  {
   "cell_type": "markdown",
   "metadata": {},
   "source": [
    "### Zoom in to Scott and Amundsen"
   ]
  },
  {
   "cell_type": "code",
   "execution_count": null,
   "metadata": {},
   "outputs": [],
   "source": [
    "scott = (-154.2, -85.3)\n",
    "amundsen = (-159.6, -85.4)"
   ]
  },
  {
   "cell_type": "code",
   "execution_count": null,
   "metadata": {},
   "outputs": [],
   "source": [
    "def get_closest_AMPS_cell(file_for_latlon, lat, lon):\n",
    "    \"\"\"\n",
    "    SSIA\n",
    "    :param file_for_latlon:\n",
    "    :param lat:\n",
    "    :param lon:\n",
    "    :return:\n",
    "    \"\"\"\n",
    "    LAT = file_for_latlon.variables['lat'][:]\n",
    "    LON = file_for_latlon.variables['lon'][:]\n",
    "    a = abs(LON - lon) + abs(LAT - lat)\n",
    "    iii, jjj = np.unravel_index(np.argmin(a.data), a.shape)\n",
    "    return iii, jjj\n",
    "\n",
    "si, sj = get_closest_AMPS_cell(ds, scott[1], scott[0])\n",
    "ai, aj = get_closest_AMPS_cell(ds, amundsen[1], amundsen[0])\n",
    "\n",
    "print(f\"Closest AMPS gridcell for Scott Gl. is {ds['lat'].values[si, sj]:1.2f} N, {ds['lon'].values[si, sj]:1.2f} E\")"
   ]
  },
  {
   "cell_type": "code",
   "execution_count": null,
   "metadata": {},
   "outputs": [],
   "source": []
  },
  {
   "cell_type": "code",
   "execution_count": null,
   "metadata": {},
   "outputs": [],
   "source": []
  },
  {
   "cell_type": "code",
   "execution_count": null,
   "metadata": {},
   "outputs": [],
   "source": [
    "## THIS NEEDS cartopy 0.18 but can't install it for some reason...\n",
    "\n",
    "import shapely.geometry as sgeom\n",
    "import cartopy.crs as ccrs\n",
    "\n",
    "\n",
    "box = sgeom.box(minx=155, maxx=165, miny=-83, maxy=-85.5)\n",
    "x0, y0, x1, y1 = box.bounds\n",
    "myproj = ccrs.SouthPolarStereo(central_longitude=180)\n",
    "# myproj = ccrs.Orthographic()\n",
    "\n",
    "plt.figure(figsize=(4, 5), facecolor='white', dpi=144)\n",
    "ax = plt.axes(projection=myproj)\n",
    "ax.set_extent([x0, x1, y0, y1], ccrs.PlateCarree())  \n",
    "ax.coastlines('50m')\n",
    "# ax.stock_img()\n",
    "\n",
    "# pcm1 = ax.pcolormesh(ds.lon, ds.lat, ds['SH'].mean(dim='time'),\\\n",
    "#                     vmin=-30, vmax=30,\\\n",
    "#                     transform=ccrs.PlateCarree())#, cmap=plt.get_cmap(\"BuPu\")\n",
    "## Alternative\n",
    "kwargs = dict(x='lon', y='lat', ax=ax, transform=ccrs.PlateCarree())\n",
    "pcm1 = ds['SH'].mean(dim='time').plot.contourf(\n",
    "    levels=31, robust=True,  **kwargs)\n",
    "\n",
    "\n",
    "# c = plt.colorbar(orientation='vertical', shrink=0.4, pad=0.10)\n",
    "cb1 = plt.colorbar(pcm1, ax=ax, label=r'Surface Heat Flux $[W {m^{-2}}]$', \\\n",
    "                   orientation='horizontal', extend='both', \\\n",
    "                  shrink=0.9, pad=0.01)\n",
    "ax.plot(ds.lon[si, sj], ds.lat[si, sj], 'ko', markersize=3, transform=ccrs.PlateCarree())\n",
    "ax.plot(ds.lon[ai, aj], ds.lat[ai, aj], 'ko', markersize=3, transform=ccrs.PlateCarree())\n",
    "# ax.plot(LON[ssj, ssi], LAT[ssj, ssi], 'ko', markersize=2, transform=ccrs.PlateCarree())\n",
    "\n",
    "ax.gridlines(color=\"black\", linestyle=\"dotted\")\n",
    "# plt.suptitle('LH')\n",
    "plt.tight_layout()\n",
    "# plt.savefig('figs/mapplot_TNB_Fsfc_mean.png')\n",
    "plt.show()"
   ]
  },
  {
   "cell_type": "code",
   "execution_count": null,
   "metadata": {},
   "outputs": [],
   "source": [
    "ds_map = ds.sel(\n",
    "  time='2016-12-25',\n",
    "  method='nearest'\n",
    ").sel(south_north=slice(-90,-50), west_east=slice(-150,-170)).mean(dim='time').squeeze()\n",
    "\n",
    "import cartopy.crs as ccrs\n",
    "import matplotlib.path as mpath\n",
    "import cartopy.feature as cfeature\n",
    "\n",
    "fig, axarr = plt.subplots(nrows=2,\n",
    "                          figsize=[18,8],\n",
    "                          subplot_kw={'projection':ccrs.PlateCarree(200)}\n",
    "                         )\n",
    "\n",
    "for ax, var, cmap in zip(\n",
    "  axarr.flat,\n",
    "  ['SH', 'T_sfc'],\n",
    "  ['RdBu', 'RdBu']  # [cmo.haline, cmo.matter]\n",
    "):\n",
    "    \n",
    "    if var == 'SH':\n",
    "        vmin = -20\n",
    "        vmax = 20\n",
    "    else:\n",
    "        vmin = None\n",
    "        vmax = None\n",
    "    \n",
    "    kwargs = dict(ax=ax, transform=ccrs.PlateCarree()) ## x='west_east', y='south_north', \n",
    "    \n",
    "    ds_map[var].plot.contourf(\n",
    "        levels=31, robust=True, cmap=cmap, vmin=vmin, vmax=vmax,  **kwargs\n",
    "    )\n",
    "ax.set_title('')\n",
    "ax.add_feature(cfeature.LAND, edgecolor='0.3')"
   ]
  },
  {
   "cell_type": "markdown",
   "metadata": {},
   "source": [
    "### Bot method"
   ]
  },
  {
   "cell_type": "code",
   "execution_count": null,
   "metadata": {},
   "outputs": [],
   "source": [
    "central_lon = ds.lon.mean().values.item()\n",
    "central_lat = ds.lat.mean().values.item()\n",
    "\n",
    "lon_min = ds.lon.min().values.item()\n",
    "lon_max = ds.lon.max().values.item()\n",
    "lon_range = lon_max - lon_min\n",
    "\n",
    "lat_min = ds.lat.min().values.item()\n",
    "lat_max = ds.lat.max().values.item()\n",
    "lat_range = lat_max - lat_min\n",
    "\n",
    "proj = ccrs.Orthographic(central_longitude=central_lon,\n",
    "                         central_latitude=central_lat)\n",
    "\n",
    "date_str = np.datetime_as_string(ds.time.values, timezone='UTC', unit='m')\n",
    "\n",
    "location = f'{central_lon:3.1f}, {central_lat:3.1f} | {date_str}'\n",
    "print(location)"
   ]
  },
  {
   "cell_type": "code",
   "execution_count": null,
   "metadata": {},
   "outputs": [],
   "source": [
    "# tiles near equator are square\n",
    "# towards pole, both dimensions contract\n",
    "scale_lon = 2 + 0.75 * abs(np.deg2rad(central_lat))\n",
    "scale_lat = 2 + 0.3 * abs(np.deg2rad(central_lat))\n",
    "\n",
    "print(scale_lon, scale_lat)\n",
    "\n",
    "extent = [central_lon - lon_range/scale_lon, central_lon + lon_range/scale_lon,\n",
    "          central_lat - lat_range/scale_lat, central_lat + lat_range/scale_lat]"
   ]
  },
  {
   "cell_type": "code",
   "execution_count": null,
   "metadata": {},
   "outputs": [],
   "source": [
    "import cmocean\n",
    "plt.rcParams['font.size'] = 16\n",
    "\n",
    "def plot(da, clip_extent=True, **kwargs):\n",
    "    xdim = 'XC' if 'i' in da.dims else 'lon'\n",
    "    ydim = 'YC' if 'j' in da.dims else 'lat'\n",
    "    \n",
    "    fig = plt.figure(figsize=(8, 6))\n",
    "    ax = fig.add_axes([0, 0.02, 1, 0.91],\n",
    "                      projection=ccrs.Orthographic(central_lon, central_lat))\n",
    "    ax.background_patch.set_facecolor('0.6')\n",
    "    if clip_extent:\n",
    "        ax.set_extent(extent, crs=ccrs.PlateCarree())\n",
    "    gl = ax.gridlines()\n",
    "    \n",
    "    da.plot(ax=ax, x=xdim, y=ydim, transform=ccrs.PlateCarree(), **kwargs)\n",
    "    ax.set_title(f'LLC4320 {da.long_name} | {location}')\n",
    "    \n",
    "#     logo_axis = fig.add_axes([0.81, 0.017, 0.12, 0.05])\n",
    "#     fig.text(0.815, 0.1, f'© Ryan Abernathey\\n{year} CC BY',\n",
    "#              fontdict={'size': 11})\n",
    "#     logo_axis.imshow(logo_img, interpolation='hanning')\n",
    "#     logo_axis.axis('off')\n",
    "\n",
    "plot(ds.SST.mean('time'), center=False, robust=True, # cmap=cmocean.cm.thermal,\n",
    "     cbar_kwargs={'shrink': 0.5})"
   ]
  },
  {
   "cell_type": "code",
   "execution_count": null,
   "metadata": {},
   "outputs": [],
   "source": []
  },
  {
   "cell_type": "code",
   "execution_count": null,
   "metadata": {},
   "outputs": [],
   "source": []
  },
  {
   "cell_type": "markdown",
   "metadata": {},
   "source": [
    "## PLOT timeseries of 10m wind speeds "
   ]
  },
  {
   "cell_type": "code",
   "execution_count": null,
   "metadata": {},
   "outputs": [],
   "source": [
    "print(ds.lon.shape)\n",
    "print(ds.lat.shape)\n",
    "print(ds['ws_10m'].isel(time=0).shape)"
   ]
  },
  {
   "cell_type": "markdown",
   "metadata": {},
   "source": [
    "### Get indices for Scott and Amundsen Glaciers"
   ]
  },
  {
   "cell_type": "markdown",
   "metadata": {},
   "source": [
    "method 1 - mininmum distance search\n",
    "\n",
    "method 2 - xarray labeled coordinates"
   ]
  },
  {
   "cell_type": "code",
   "execution_count": null,
   "metadata": {},
   "outputs": [],
   "source": []
  },
  {
   "cell_type": "code",
   "execution_count": null,
   "metadata": {},
   "outputs": [],
   "source": []
  },
  {
   "cell_type": "code",
   "execution_count": null,
   "metadata": {},
   "outputs": [],
   "source": [
    "# # rotate winds to earth-relative using the correct formulas\n",
    "# ds['ue'] = ds['U10'] * ds['COSALPHA'] - ds['V10'] * ds['SINALPHA']\n",
    "# ds['ve'] = ds['V10'] * ds['COSALPHA'] + ds['U10'] * ds['SINALPHA']"
   ]
  },
  {
   "cell_type": "markdown",
   "metadata": {},
   "source": [
    "Crude method using indices"
   ]
  },
  {
   "cell_type": "code",
   "execution_count": null,
   "metadata": {},
   "outputs": [],
   "source": [
    "plt.plot(ds['ws_10m'].isel(south_north=ai, west_east=aj), label='Amundsen')\n",
    "plt.plot(ds['ws_10m'].isel(south_north=si, west_east=sj), label='Scott')\n",
    "plt.ylabel('10 m Windspeed (m s$^{-1}$)')\n",
    "plt.legend()\n",
    "# plt.savefig('figs/lineplot_WHAFT_ScottAmundsen_WS10_' + plottitle + '.pdf')"
   ]
  },
  {
   "cell_type": "markdown",
   "metadata": {},
   "source": [
    "Better? method using labeled coordinates"
   ]
  },
  {
   "cell_type": "markdown",
   "metadata": {},
   "source": [
    "### PLOT timeseries of other surface terms"
   ]
  },
  {
   "cell_type": "code",
   "execution_count": null,
   "metadata": {},
   "outputs": [],
   "source": [
    "print(ds['ws_10m'].isel(south_north=si, west_east=sj).argmax())\n",
    "print(ds['time'].values[0])\n",
    "print(ds['ws_10m'].isel(south_north=si, west_east=sj).argmin())\n",
    "print(ds['time'].values[4])"
   ]
  },
  {
   "cell_type": "code",
   "execution_count": null,
   "metadata": {},
   "outputs": [],
   "source": [
    "fig, axes = plt.subplots(3, 1, figsize=(8,10), sharex=True, sharey=False)\n",
    "ln01 = axes[0].plot(ds['time'], ds['ws_10m'].isel(south_north=ai, west_east=aj), \n",
    "                     marker='.', color='blue', label='Amundsen')\n",
    "ln02 = axes[0].plot(ds['time'], ds['ws_10m'].isel(south_north=si, west_east=sj), \n",
    "                    marker='.', color='orange', label='Scott')\n",
    "ln11 = axes[1].plot(ds['time'], ds['SH'].isel(south_north=ai, west_east=aj), \n",
    "                   marker='.', color='blue')\n",
    "ln12 = axes[1].plot(ds['time'], ds['SH'].isel(south_north=si, west_east=sj), \n",
    "                   marker='.', color='orange')\n",
    "# ln13 = axes[1].plot(ds['time'], ds['LW_d'].isel(south_north=ai, west_east=aj), \n",
    "#                    color='blue')\n",
    "# ln14 = axes[1].plot(ds['time'], ds['LW_d'].isel(south_north=si, west_east=sj), \n",
    "#                     color='orange')\n",
    "ln21 = axes[2].plot(ds['time'], ds['T_sfc'].isel(south_north=ai, west_east=aj), \n",
    "                   color='blue')\n",
    "ln21 = axes[2].plot(ds['time'], ds['T_sfc'].isel(south_north=si, west_east=sj), \n",
    "                    color='orange')\n",
    "\n",
    "axes[0].set_ylabel('10 m Windspeed (m s$^{-1}$)')\n",
    "axes[1].set_ylabel('Sensible Heat Flux (W / m s$^{-2}$)')\n",
    "axes[2].set_ylabel('T_sfc ($^{o}C$)')\n",
    "axes[0].legend()\n",
    "# plt.xlim(pd.Timestamp('2017-02-10'), pd.Timestamp('2017-02-17'))\n",
    "fig.autofmt_xdate()\n",
    "# plt.savefig('figs/lineplot_WHAFT_ScottAmundsen_WS10_' + plottitle + '.pdf')"
   ]
  },
  {
   "cell_type": "code",
   "execution_count": null,
   "metadata": {},
   "outputs": [],
   "source": [
    "## Currently can't do this with 2D coordinates\n",
    "# ds = ds.set_index(south_north='lat')\n",
    "# ds = ds.set_index(west_east='lon')\n",
    "# ds.sel(west_east=scott[1], south_north=scott[0], method='nearest')[u'T_sfc'].plot()"
   ]
  },
  {
   "cell_type": "code",
   "execution_count": null,
   "metadata": {},
   "outputs": [],
   "source": []
  },
  {
   "cell_type": "markdown",
   "metadata": {},
   "source": [
    "### PLOT vertical profile of winds"
   ]
  },
  {
   "cell_type": "code",
   "execution_count": null,
   "metadata": {},
   "outputs": [],
   "source": [
    "\n",
    "fig, axes = plt.subplots(1, 2, figsize=(8,10), sharex=False, sharey=True)\n",
    "ln01 = axes[0].plot(ds['T_p'].isel(south_north=ai, west_east=aj).mean('time'), ds['pressure'],\n",
    "                    marker='.', color='blue', label='Amundsen')\n",
    "ln02 = axes[0].plot(ds['T_p'].isel(south_north=si, west_east=sj).mean('time'), ds['pressure'],\n",
    "                    marker='.', color='orange', label='Scott')\n",
    "ln11 = axes[1].plot(ds['q_p'].isel(south_north=ai, west_east=aj).mean('time'), ds['pressure'], \n",
    "                   marker='.', color='blue')\n",
    "ln12 = axes[1].plot(ds['q_p'].isel(south_north=si, west_east=sj).mean('time'), ds['pressure'], \n",
    "                   marker='.', color='orange')\n",
    "\n",
    "axes[0].set_ylabel('T ($^{o}C$)')\n",
    "axes[1].set_ylabel('Specific Humidity (kg / kg$^{-1}$)')\n",
    "axes[0].legend()\n",
    "plt.ylim([900, 300])\n",
    "fig.autofmt_xdate()\n",
    "# plt.savefig('figs/lineplot_WHAFT_ScottAmundsen_WS10_' + plottitle + '.pdf')"
   ]
  },
  {
   "cell_type": "code",
   "execution_count": null,
   "metadata": {},
   "outputs": [],
   "source": []
  }
 ],
 "metadata": {
  "kernelspec": {
   "display_name": "Python 3",
   "language": "python",
   "name": "python3"
  },
  "language_info": {
   "codemirror_mode": {
    "name": "ipython",
    "version": 3
   },
   "file_extension": ".py",
   "mimetype": "text/x-python",
   "name": "python",
   "nbconvert_exporter": "python",
   "pygments_lexer": "ipython3",
   "version": "3.8.6"
  }
 },
 "nbformat": 4,
 "nbformat_minor": 4
}
